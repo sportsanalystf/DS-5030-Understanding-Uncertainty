{
 "cells": [
  {
   "cell_type": "markdown",
   "id": "87b91d83",
   "metadata": {},
   "source": [
    "# Assignment 1\n",
    "### Understanding Uncertainty\n",
    "### Due 9/5"
   ]
  },
  {
   "cell_type": "markdown",
   "id": "380e339f",
   "metadata": {},
   "source": [
    "1. Create a new public repo on Github under your account. Include a readme file.\n",
    "2. Clone it to your machine. Put this file into that repo.\n",
    "3. Use the following function to download the example data for the course:"
   ]
  },
  {
   "cell_type": "code",
   "execution_count": 14,
   "id": "2d62b4f6",
   "metadata": {},
   "outputs": [
    {
     "name": "stdout",
     "output_type": "stream",
     "text": [
      "Download file already exists\n",
      "Data directory already exists\n"
     ]
    }
   ],
   "source": [
    "def download_data(force=False):\n",
    "    \"\"\"Download and extract course data from Zenodo.\"\"\"\n",
    "    import urllib.request, zipfile, os\n",
    "    \n",
    "    zip_path = 'data.zip'\n",
    "    data_dir = 'data'\n",
    "    \n",
    "    if not os.path.exists(zip_path) or force:\n",
    "        print(\"Downloading course data\")\n",
    "        urllib.request.urlretrieve(\n",
    "            'https://zenodo.org/records/16954427/files/data.zip?download=1',\n",
    "            zip_path\n",
    "        )\n",
    "        print(\"Download complete\")\n",
    "    else:\n",
    "        print(\"Download file already exists\")\n",
    "        \n",
    "    if not os.path.exists(data_dir) or force:\n",
    "        print(\"Extracting data files...\")\n",
    "        with zipfile.ZipFile(zip_path, 'r') as zip_ref:\n",
    "            zip_ref.extractall(data_dir)\n",
    "        print(\"Data extracted\")\n",
    "    else:\n",
    "        print(\"Data directory already exists\")\n",
    "\n",
    "download_data()"
   ]
  },
  {
   "cell_type": "markdown",
   "id": "01db0045",
   "metadata": {},
   "source": [
    "4. Open one of the datasets using Pandas:\n",
    "    1. `ames_prices.csv`: Housing characteristics and prices\n",
    "    2. `college_completion.csv`: Public, nonprofit, and for-profit educational institutions, graduation rates, and financial aid\n",
    "    3. `ForeignGifts_edu.csv`: Monetary and in-kind transfers from foreign entities to U.S. educational institutions\n",
    "    4. `iowa.csv`: Liquor sales in Iowa, at the transaction level\n",
    "    5. `metabric.csv`: Cancer patient and outcome data\n",
    "    6. `mn_police_use_of_force.csv`: Records of physical altercations between Minnessota police and private citizens\n",
    "    7. `nhanes_data_17_18.csv`: National Health and Nutrition Examination Survey\n",
    "    8. `tuna.csv`: Yellowfin Tuna Genome (I don't recommend this one; it's just a sequence of G, C, A, T )\n",
    "    9. `va_procurement.csv`: Public spending by the state of Virginia"
   ]
  },
  {
   "cell_type": "code",
   "execution_count": 15,
   "id": "302755cc",
   "metadata": {},
   "outputs": [],
   "source": [
    "import pandas as pd\n",
    "import numpy as np"
   ]
  },
  {
   "cell_type": "code",
   "execution_count": 16,
   "id": "3e3e48f7",
   "metadata": {},
   "outputs": [
    {
     "name": "stderr",
     "output_type": "stream",
     "text": [
      "/var/folders/_9/mppjh83s7vv1krgq3bp31dnr0000gn/T/ipykernel_24020/3691063809.py:1: DtypeWarning: Columns (142) have mixed types. Specify dtype option on import or set low_memory=False.\n",
      "  nhanes = pd.read_csv('/Users/khansaamaa/Documents/GitHub/DS-5030-Understanding-Uncertainty/data/nhanes_data_17_18.csv')\n"
     ]
    }
   ],
   "source": [
    "nhanes = pd.read_csv('/Users/khansaamaa/Documents/GitHub/DS-5030-Understanding-Uncertainty/data/nhanes_data_17_18.csv')"
   ]
  },
  {
   "cell_type": "code",
   "execution_count": 17,
   "id": "5f4c3ed6",
   "metadata": {},
   "outputs": [
    {
     "name": "stdout",
     "output_type": "stream",
     "text": [
      "<class 'pandas.core.frame.DataFrame'>\n",
      "RangeIndex: 8366 entries, 0 to 8365\n",
      "Columns: 198 entries, SEQN to TimesLost10LbsOrMoreToLoseWeight\n",
      "dtypes: float64(162), object(36)\n",
      "memory usage: 12.6+ MB\n"
     ]
    },
    {
     "data": {
      "text/plain": [
       "Index(['SEQN', 'GeneralHealthCondition', 'EverBreastfedOrFedBreastmilk',\n",
       "       'AgeStoppedBreastfeedingdays', 'AgeFirstFedFormuladays',\n",
       "       'AgeStoppedReceivingFormuladays', 'AgeStartedOtherFoodbeverage',\n",
       "       'AgeFirstFedMilkdays', 'TypeOfMilkFirstFedWholeMilk',\n",
       "       'TypeOfMilkFirstFed2Milk',\n",
       "       ...\n",
       "       'DaysSmokedCigsDuringPast30Days', 'AvgCigarettesdayDuringPast30Days',\n",
       "       'TriedToQuitSmoking', 'TimesStoppedSmokingCigarettes',\n",
       "       'HowLongWereYouAbleToStopSmoking',\n",
       "       'UnitOfMeasureDayweekmonthyear_2_SMQ',\n",
       "       'CurrentSelfreportedHeightInches', 'CurrentSelfreportedWeightPounds',\n",
       "       'TriedToLoseWeightInPastYear', 'TimesLost10LbsOrMoreToLoseWeight'],\n",
       "      dtype='object', length=198)"
      ]
     },
     "execution_count": 17,
     "metadata": {},
     "output_type": "execute_result"
    }
   ],
   "source": [
    "nhanes.head()\n",
    "nhanes.info()\n",
    "nhanes.describe()\n",
    "nhanes.shape\n",
    "nhanes.dtypes\n",
    "nhanes.columns"
   ]
  },
  {
   "cell_type": "code",
   "execution_count": 22,
   "id": "3582c33d",
   "metadata": {},
   "outputs": [
    {
     "data": {
      "application/vnd.microsoft.datawrangler.viewer.v0+json": {
       "columns": [
        {
         "name": "index",
         "rawType": "object",
         "type": "string"
        },
        {
         "name": "0",
         "rawType": "object",
         "type": "unknown"
        }
       ],
       "ref": "2f3f2556-43cb-4e61-a186-e24f37877104",
       "rows": [
        [
         "SEQN",
         "float64"
        ],
        [
         "GeneralHealthCondition",
         "object"
        ],
        [
         "EverBreastfedOrFedBreastmilk",
         "float64"
        ],
        [
         "AgeStoppedBreastfeedingdays",
         "float64"
        ],
        [
         "AgeFirstFedFormuladays",
         "float64"
        ],
        [
         "AgeStoppedReceivingFormuladays",
         "float64"
        ],
        [
         "AgeStartedOtherFoodbeverage",
         "float64"
        ],
        [
         "AgeFirstFedMilkdays",
         "float64"
        ],
        [
         "TypeOfMilkFirstFedWholeMilk",
         "object"
        ],
        [
         "TypeOfMilkFirstFed2Milk",
         "float64"
        ],
        [
         "TypeOfMilkFirstFed1Milk",
         "float64"
        ],
        [
         "TypeOfMilkFirstFedFatFreeMilk",
         "float64"
        ],
        [
         "TypeOfMilkFirstFedSoyMilk",
         "float64"
        ],
        [
         "TypeOfMilkFirstFedOther",
         "float64"
        ],
        [
         "HowHealthyIsTheDiet",
         "object"
        ],
        [
         "Past30DayMilkProductConsumption",
         "object"
        ],
        [
         "YouDrinkWholeOrRegularMilk",
         "object"
        ],
        [
         "YouDrink2FatMilk",
         "float64"
        ],
        [
         "YouDrink1FatMilk",
         "float64"
        ],
        [
         "YouDrinkFatFreeskimMilk",
         "float64"
        ],
        [
         "YouDrinkSoyMilk",
         "float64"
        ],
        [
         "YouDrinkAnotherTypeOfMilk",
         "float64"
        ],
        [
         "RegularMilkUse5TimesPerWeek",
         "object"
        ],
        [
         "HowOftenDrankMilkAge512",
         "object"
        ],
        [
         "HowOftenDrankMilkAge1317",
         "object"
        ],
        [
         "HowOftenDrankMilkAge1835",
         "object"
        ],
        [
         "CommunitygovernmentMealsDelivered",
         "float64"
        ],
        [
         "EatMealsAtCommunityseniorCenter",
         "float64"
        ],
        [
         "AttendKindergartenThruHighSchool",
         "float64"
        ],
        [
         "SchoolServesSchoolLunches",
         "float64"
        ],
        [
         "OfTimesweekGetSchoolLunch",
         "float64"
        ],
        [
         "SchoolLunchFreeReducedOrFullPrice",
         "object"
        ],
        [
         "SchoolServeCompleteBreakfastEachDay",
         "float64"
        ],
        [
         "OfTimesweekGetSchoolBreakfast",
         "float64"
        ],
        [
         "SchoolBreakfastFreereducedfullPrice",
         "object"
        ],
        [
         "SummerProgramMealFreereducedPrice",
         "object"
        ],
        [
         "OfMealsNotHomePrepared",
         "float64"
        ],
        [
         "OfMealsFromFastFoodOrPizzaPlace",
         "float64"
        ],
        [
         "OfReadytoeatFoodsInPast30Days",
         "float64"
        ],
        [
         "OfFrozenMealspizzaInPast30Days",
         "float64"
        ],
        [
         "HeardOfMyPlate",
         "float64"
        ],
        [
         "LookedUpMyPlateOnInternet",
         "float64"
        ],
        [
         "TriedMyPlatePlan",
         "float64"
        ],
        [
         "MainMealPlannerpreparer",
         "float64"
        ],
        [
         "SharedMealPlanningpreparingDuty",
         "float64"
        ],
        [
         "MainFoodShopper",
         "float64"
        ],
        [
         "SharedFoodShoppingDuty",
         "float64"
        ],
        [
         "HaveSeriousDifficultyHearing",
         "float64"
        ],
        [
         "HaveSeriousDifficultySeeing",
         "float64"
        ],
        [
         "HaveSeriousDifficultyConcentrating",
         "float64"
        ]
       ],
       "shape": {
        "columns": 1,
        "rows": 198
       }
      },
      "text/plain": [
       "SEQN                                   float64\n",
       "GeneralHealthCondition                  object\n",
       "EverBreastfedOrFedBreastmilk           float64\n",
       "AgeStoppedBreastfeedingdays            float64\n",
       "AgeFirstFedFormuladays                 float64\n",
       "                                        ...   \n",
       "UnitOfMeasureDayweekmonthyear_2_SMQ     object\n",
       "CurrentSelfreportedHeightInches        float64\n",
       "CurrentSelfreportedWeightPounds        float64\n",
       "TriedToLoseWeightInPastYear            float64\n",
       "TimesLost10LbsOrMoreToLoseWeight        object\n",
       "Length: 198, dtype: object"
      ]
     },
     "execution_count": 22,
     "metadata": {},
     "output_type": "execute_result"
    }
   ],
   "source": [
    "nhanes.dtypes"
   ]
  },
  {
   "cell_type": "markdown",
   "id": "fa5cade1",
   "metadata": {},
   "source": [
    "5. Pick two or three variables and briefly analyze them\n",
    "    - Is it a categorical or numeric variable?\n",
    "    - How many missing values are there? (`df['var'].isna()` and `np.sum()`)\n",
    "    - If categorical, tabulate the values (`df['var'].value_counts()`) and if numeric, get a summary (`df['var'].describe()`)"
   ]
  },
  {
   "cell_type": "markdown",
   "id": "c0a5698e",
   "metadata": {},
   "source": [
    "Variable 1 :\n",
    "\n",
    "Name : GeneralHealthCondition\n",
    "Datatype : object\n",
    "Variabletype : categorical\n",
    "Missing Values : 2402\n",
    "Total Values : 8366"
   ]
  },
  {
   "cell_type": "code",
   "execution_count": 18,
   "id": "6f1fe718",
   "metadata": {},
   "outputs": [
    {
     "data": {
      "application/vnd.microsoft.datawrangler.viewer.v0+json": {
       "columns": [
        {
         "name": "GeneralHealthCondition",
         "rawType": "object",
         "type": "string"
        },
        {
         "name": "count",
         "rawType": "int64",
         "type": "integer"
        }
       ],
       "ref": "b3d05c42-91b4-466f-a5cb-cef3ed75d051",
       "rows": [
        [
         "Good",
         "2454"
        ],
        [
         "Very good",
         "1544"
        ],
        [
         "Fair or",
         "1175"
        ],
        [
         "Excellent",
         "619"
        ],
        [
         "Poor?",
         "172"
        ]
       ],
       "shape": {
        "columns": 1,
        "rows": 5
       }
      },
      "text/plain": [
       "GeneralHealthCondition\n",
       "Good         2454\n",
       "Very good    1544\n",
       "Fair or      1175\n",
       "Excellent     619\n",
       "Poor?         172\n",
       "Name: count, dtype: int64"
      ]
     },
     "execution_count": 18,
     "metadata": {},
     "output_type": "execute_result"
    }
   ],
   "source": [
    "nhanes['GeneralHealthCondition'].value_counts()"
   ]
  },
  {
   "cell_type": "code",
   "execution_count": 12,
   "id": "23fa5314",
   "metadata": {},
   "outputs": [
    {
     "data": {
      "text/plain": [
       "2402"
      ]
     },
     "execution_count": 12,
     "metadata": {},
     "output_type": "execute_result"
    }
   ],
   "source": [
    "nhanes['GeneralHealthCondition'].isna()\n",
    "nhanes['GeneralHealthCondition'].isna().sum()\n",
    "#    - If categorical, tabulate the values (`df['var'].value_counts()`) and if numeric, get a summary (`df['var'].describe()`)"
   ]
  },
  {
   "cell_type": "markdown",
   "id": "e53babf7",
   "metadata": {},
   "source": [
    "Variable 2 :\n",
    "\n",
    "Name : AgeStartedOtherFoodbeverage\n",
    "Datatype : float64\n",
    "Variabletype : numeric\n",
    "Missing Values : 7289\n",
    "Total Values : 8366"
   ]
  },
  {
   "cell_type": "code",
   "execution_count": 20,
   "id": "fc8cde98",
   "metadata": {},
   "outputs": [
    {
     "data": {
      "application/vnd.microsoft.datawrangler.viewer.v0+json": {
       "columns": [
        {
         "name": "index",
         "rawType": "object",
         "type": "string"
        },
        {
         "name": "AgeStartedOtherFoodbeverage",
         "rawType": "float64",
         "type": "float"
        }
       ],
       "ref": "ead1a5ba-6a06-4753-a2cf-1d90fe6fbfa2",
       "rows": [
        [
         "count",
         "1077.0"
        ],
        [
         "mean",
         "16604.33147632312"
        ],
        [
         "std",
         "121232.07861366408"
        ],
        [
         "min",
         "1.0"
        ],
        [
         "25%",
         "121.0"
        ],
        [
         "50%",
         "182.0"
        ],
        [
         "75%",
         "243.0"
        ],
        [
         "max",
         "999999.0"
        ]
       ],
       "shape": {
        "columns": 1,
        "rows": 8
       }
      },
      "text/plain": [
       "count      1077.000000\n",
       "mean      16604.331476\n",
       "std      121232.078614\n",
       "min           1.000000\n",
       "25%         121.000000\n",
       "50%         182.000000\n",
       "75%         243.000000\n",
       "max      999999.000000\n",
       "Name: AgeStartedOtherFoodbeverage, dtype: float64"
      ]
     },
     "execution_count": 20,
     "metadata": {},
     "output_type": "execute_result"
    }
   ],
   "source": [
    "nhanes['AgeStartedOtherFoodbeverage'].describe()"
   ]
  },
  {
   "cell_type": "code",
   "execution_count": 21,
   "id": "e79aeee0",
   "metadata": {},
   "outputs": [
    {
     "data": {
      "text/plain": [
       "7289"
      ]
     },
     "execution_count": 21,
     "metadata": {},
     "output_type": "execute_result"
    }
   ],
   "source": [
    "nhanes['AgeStartedOtherFoodbeverage'].isna()\n",
    "nhanes['AgeStartedOtherFoodbeverage'].isna().sum()"
   ]
  },
  {
   "cell_type": "markdown",
   "id": "dbf2318a",
   "metadata": {},
   "source": [
    "6. What are some questions and prediction tools you could create using these data? Who would the stakeholder be for that prediction tool? What practical or ethical questions would it create? What other data would you want, that are not available in your data?"
   ]
  },
  {
   "cell_type": "markdown",
   "id": "32b54748",
   "metadata": {},
   "source": [
    "1. Possible Questions & Prediction Tools\n",
    "\n",
    "\n",
    "- Predictive Health Risk Models\n",
    "\n",
    "    - Can we predict whether a person is at risk of developing diabetes, hypertension, or heart disease based on BMI, blood pressure, cholesterol, and lifestyle factors (smoking, exercise, diet)?\n",
    "\n",
    "- Quality of Life Forecasting\n",
    "\n",
    "    - Can we predict a person’s self-reported general health condition based on clinical measures and lifestyle indicators?\n",
    "\n",
    "- Healthcare Access & Disparities\n",
    "\n",
    "    - How do socioeconomic variables (income, insurance, education) predict access to preventive care?\n",
    "\n",
    "- Nutrition & Obesity Risk\n",
    "\n",
    "    - How do dietary recall data predict obesity risk or metabolic syndrome?"
   ]
  },
  {
   "cell_type": "markdown",
   "id": "9f41eabc",
   "metadata": {},
   "source": [
    "2. Stakeholders for Prediction Tools\n",
    "\n",
    "- Public health agencies (CDC, NIH) → to design better interventions.\n",
    "\n",
    "- Clinicians & hospitals → to identify at-risk patients early.\n",
    "\n",
    "- Policy makers → to address health inequities.\n",
    "\n",
    "- Insurance companies (with caution) → to assess population-level risk, though this raises ethical issues.\n",
    "\n",
    "- Researchers → to explore relationships between lifestyle and health outcomes."
   ]
  },
  {
   "cell_type": "markdown",
   "id": "3f5526cb",
   "metadata": {},
   "source": [
    "3. Practical & Ethical Questions\n",
    "\n",
    "- Bias and Fairness: Does the model unfairly disadvantage certain racial/ethnic or income groups?\n",
    "\n",
    "- Privacy: How is sensitive health data protected?\n",
    "\n",
    "- Consent: Were participants informed their data might be used for predictive modeling?\n",
    "\n",
    "- Misuse: Could insurers/employers use these predictions to deny coverage or employment?\n",
    "\n",
    "- Interpretability: Can predictions be explained clearly to non-experts?"
   ]
  },
  {
   "cell_type": "markdown",
   "id": "eadcf2c2",
   "metadata": {},
   "source": [
    "4. Additional Data That Would Be Useful\n",
    "\n",
    "- Longitudinal outcomes (follow-up health outcomes instead of one-time survey).\n",
    "\n",
    "- Genetic data (some NHANES subsets have this, but not always).\n",
    "\n",
    "- Environmental exposures (air pollution, neighborhood food access).\n",
    "\n",
    "- Healthcare utilization (hospital visits, medications adherence).\n",
    "\n",
    "- Behavioral tracking (physical activity from wearables, sleep data).\n",
    "\n",
    "- Psychosocial measures (stress, social support)."
   ]
  },
  {
   "cell_type": "markdown",
   "id": "a4a7ddc7",
   "metadata": {},
   "source": [
    "7. Commit your work to the repo (`git commit -am 'Finish assignment'` at the command line, or use the Git panel in VS Code). Push your work back to Github and submit the link on Canvas in the assignment tab."
   ]
  }
 ],
 "metadata": {
  "kernelspec": {
   "display_name": "base",
   "language": "python",
   "name": "python3"
  },
  "language_info": {
   "codemirror_mode": {
    "name": "ipython",
    "version": 3
   },
   "file_extension": ".py",
   "mimetype": "text/x-python",
   "name": "python",
   "nbconvert_exporter": "python",
   "pygments_lexer": "ipython3",
   "version": "3.12.7"
  }
 },
 "nbformat": 4,
 "nbformat_minor": 5
}
