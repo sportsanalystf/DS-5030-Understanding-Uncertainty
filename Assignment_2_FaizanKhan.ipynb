{
 "cells": [
  {
   "cell_type": "markdown",
   "id": "87b91d83",
   "metadata": {},
   "source": [
    "# Assignment 2\n",
    "### Understanding Uncertainty\n",
    "### Due 9/12"
   ]
  },
  {
   "cell_type": "markdown",
   "id": "380e339f",
   "metadata": {},
   "source": [
    "1. 'State Bottle Retail' is the price at which the bottle is sold, while 'State Bottle Cost' is the price the state pays for a bottle.\n",
    "- How do you define the most profitable item? Why? Explain your thinking.\n",
    "- Use `.groupby` calculations to determine the most profitable liquors sold in Iowa.\n",
    "- Make a plot of the top liquors."
   ]
  },
  {
   "cell_type": "code",
   "execution_count": 1,
   "id": "2ec46c3d",
   "metadata": {},
   "outputs": [],
   "source": [
    "# importing the relevant libraries\n",
    "\n",
    "import pandas as pd\n",
    "import numpy as np\n",
    "import matplotlib.pyplot as plt\n",
    "import seaborn as sns"
   ]
  },
  {
   "cell_type": "code",
   "execution_count": 2,
   "id": "3cc17d13",
   "metadata": {},
   "outputs": [
    {
     "data": {
      "application/vnd.microsoft.datawrangler.viewer.v0+json": {
       "columns": [
        {
         "name": "index",
         "rawType": "int64",
         "type": "integer"
        },
        {
         "name": "Invoice/Item Number",
         "rawType": "object",
         "type": "string"
        },
        {
         "name": "Date",
         "rawType": "object",
         "type": "string"
        },
        {
         "name": "Store Number",
         "rawType": "int64",
         "type": "integer"
        },
        {
         "name": "Store Name",
         "rawType": "object",
         "type": "string"
        },
        {
         "name": "Zip Code",
         "rawType": "object",
         "type": "string"
        },
        {
         "name": "Category Name",
         "rawType": "object",
         "type": "string"
        },
        {
         "name": "Vendor Name",
         "rawType": "object",
         "type": "string"
        },
        {
         "name": "Item Number",
         "rawType": "int64",
         "type": "integer"
        },
        {
         "name": "Item Description",
         "rawType": "object",
         "type": "string"
        },
        {
         "name": "Bottle Volume (ml)",
         "rawType": "int64",
         "type": "integer"
        },
        {
         "name": "State Bottle Cost",
         "rawType": "float64",
         "type": "float"
        },
        {
         "name": "State Bottle Retail",
         "rawType": "float64",
         "type": "float"
        },
        {
         "name": "Bottles Sold",
         "rawType": "int64",
         "type": "integer"
        },
        {
         "name": "Sale (Dollars)",
         "rawType": "float64",
         "type": "float"
        }
       ],
       "ref": "587b316f-cd9b-4759-8899-1172c46d1fc8",
       "rows": [
        [
         "0",
         "INV-59108400026",
         "06/06/2023",
         "3723",
         "J D SPIRITS LIQUOR",
         "51040",
         "STRAIGHT RYE WHISKIES",
         "INFINIUM SPIRITS",
         "27102",
         "TEMPLETON RYE 4YR",
         "750",
         "18.09",
         "27.14",
         "2",
         "54.28"
        ],
        [
         "1",
         "S16879800057",
         "01/16/2014",
         "3926",
         "LIQUOR DOWNTOWN / IOWA CITY",
         "52240",
         "VODKA 80 PROOF",
         "HEAVEN HILL BRANDS",
         "35416",
         "BURNETT'S VODKA 80 PRF",
         "750",
         "4.84",
         "7.26",
         "12",
         "87.12"
        ],
        [
         "2",
         "INV-05301100019",
         "06/05/2017",
         "3829",
         "GARY'S FOODS / MT VERNON",
         "52314",
         "CANADIAN WHISKIES",
         "DIAGEO AMERICAS",
         "11296",
         "CROWN ROYAL",
         "750",
         "15.59",
         "23.39",
         "6",
         "135.66"
        ],
        [
         "3",
         "INV-40973500083",
         "10/14/2021",
         "5102",
         "WILKIE LIQUORS",
         "52314",
         "AMERICAN SCHNAPPS",
         "JIM BEAM BRANDS",
         "82787",
         "DEKUYPER BUTTERSHOTS",
         "1000",
         "7.87",
         "11.81",
         "12",
         "141.72"
        ],
        [
         "4",
         "INV-17022500013",
         "01/18/2019",
         "2560",
         "HY-VEE FOOD STORE / MARION",
         "52302",
         "WHISKEY LIQUEUR",
         "SAZERAC COMPANY  INC",
         "64863",
         "FIREBALL CINNAMON WHISKEY",
         "200",
         "2.5",
         "3.75",
         "12",
         "45.0"
        ],
        [
         "5",
         "S32243000024",
         "05/10/2016",
         "5167",
         "NEW STAR LIQUOR & TOBACCO  / FT DODG",
         "50501",
         "IRISH WHISKIES",
         "PERNOD RICARD USA/AUSTIN NICHOLS",
         "15677",
         "POWERS IRISH WHISKEY",
         "1000",
         "16.49",
         "24.74",
         "1",
         "24.74"
        ],
        [
         "6",
         "S16316700048",
         "12/18/2013",
         "2536",
         "HY-VEE / PLEASANT HILL",
         "50317",
         "PUERTO RICO & VIRGIN ISLANDS RUM",
         "BACARDI U.S.A., INC.",
         "43036",
         "BACARDI GOLD RUM",
         "750",
         "7.54",
         "11.31",
         "12",
         "135.72"
        ],
        [
         "7",
         "INV-84044800086",
         "06/30/2025",
         "2637",
         "HY-VEE #5 / DAVENPORT",
         "52804",
         "AMERICAN BRANDIES",
         "SAZERAC COMPANY  INC",
         "55066",
         "MR BOSTON BLACKBERRY BRANDY",
         "750",
         "5.0",
         "7.5",
         "12",
         "90.0"
        ],
        [
         "8",
         "INV-14344700002",
         "09/10/2018",
         "3611",
         "LOGAN SUPER FOODS",
         "51546",
         "CANADIAN WHISKIES",
         "JIM BEAM BRANDS",
         "15246",
         "WINDSOR CANADIAN",
         "750",
         "4.67",
         "7.01",
         "12",
         "84.12"
        ],
        [
         "9",
         "S08759700117",
         "11/05/2012",
         "2623",
         "HY-VEE FOOD STORE #4 / SIOUX CITY",
         "51104",
         "SPICED RUM",
         "DIAGEO AMERICAS",
         "43334",
         "CAPTAIN MORGAN SPICED RUM",
         "375",
         "4.5",
         "6.74",
         "6",
         "40.44"
        ]
       ],
       "shape": {
        "columns": 14,
        "rows": 10
       }
      },
      "text/html": [
       "<div>\n",
       "<style scoped>\n",
       "    .dataframe tbody tr th:only-of-type {\n",
       "        vertical-align: middle;\n",
       "    }\n",
       "\n",
       "    .dataframe tbody tr th {\n",
       "        vertical-align: top;\n",
       "    }\n",
       "\n",
       "    .dataframe thead th {\n",
       "        text-align: right;\n",
       "    }\n",
       "</style>\n",
       "<table border=\"1\" class=\"dataframe\">\n",
       "  <thead>\n",
       "    <tr style=\"text-align: right;\">\n",
       "      <th></th>\n",
       "      <th>Invoice/Item Number</th>\n",
       "      <th>Date</th>\n",
       "      <th>Store Number</th>\n",
       "      <th>Store Name</th>\n",
       "      <th>Zip Code</th>\n",
       "      <th>Category Name</th>\n",
       "      <th>Vendor Name</th>\n",
       "      <th>Item Number</th>\n",
       "      <th>Item Description</th>\n",
       "      <th>Bottle Volume (ml)</th>\n",
       "      <th>State Bottle Cost</th>\n",
       "      <th>State Bottle Retail</th>\n",
       "      <th>Bottles Sold</th>\n",
       "      <th>Sale (Dollars)</th>\n",
       "    </tr>\n",
       "  </thead>\n",
       "  <tbody>\n",
       "    <tr>\n",
       "      <th>0</th>\n",
       "      <td>INV-59108400026</td>\n",
       "      <td>06/06/2023</td>\n",
       "      <td>3723</td>\n",
       "      <td>J D SPIRITS LIQUOR</td>\n",
       "      <td>51040</td>\n",
       "      <td>STRAIGHT RYE WHISKIES</td>\n",
       "      <td>INFINIUM SPIRITS</td>\n",
       "      <td>27102</td>\n",
       "      <td>TEMPLETON RYE 4YR</td>\n",
       "      <td>750</td>\n",
       "      <td>18.09</td>\n",
       "      <td>27.14</td>\n",
       "      <td>2</td>\n",
       "      <td>54.28</td>\n",
       "    </tr>\n",
       "    <tr>\n",
       "      <th>1</th>\n",
       "      <td>S16879800057</td>\n",
       "      <td>01/16/2014</td>\n",
       "      <td>3926</td>\n",
       "      <td>LIQUOR DOWNTOWN / IOWA CITY</td>\n",
       "      <td>52240</td>\n",
       "      <td>VODKA 80 PROOF</td>\n",
       "      <td>HEAVEN HILL BRANDS</td>\n",
       "      <td>35416</td>\n",
       "      <td>BURNETT'S VODKA 80 PRF</td>\n",
       "      <td>750</td>\n",
       "      <td>4.84</td>\n",
       "      <td>7.26</td>\n",
       "      <td>12</td>\n",
       "      <td>87.12</td>\n",
       "    </tr>\n",
       "    <tr>\n",
       "      <th>2</th>\n",
       "      <td>INV-05301100019</td>\n",
       "      <td>06/05/2017</td>\n",
       "      <td>3829</td>\n",
       "      <td>GARY'S FOODS / MT VERNON</td>\n",
       "      <td>52314</td>\n",
       "      <td>CANADIAN WHISKIES</td>\n",
       "      <td>DIAGEO AMERICAS</td>\n",
       "      <td>11296</td>\n",
       "      <td>CROWN ROYAL</td>\n",
       "      <td>750</td>\n",
       "      <td>15.59</td>\n",
       "      <td>23.39</td>\n",
       "      <td>6</td>\n",
       "      <td>135.66</td>\n",
       "    </tr>\n",
       "    <tr>\n",
       "      <th>3</th>\n",
       "      <td>INV-40973500083</td>\n",
       "      <td>10/14/2021</td>\n",
       "      <td>5102</td>\n",
       "      <td>WILKIE LIQUORS</td>\n",
       "      <td>52314</td>\n",
       "      <td>AMERICAN SCHNAPPS</td>\n",
       "      <td>JIM BEAM BRANDS</td>\n",
       "      <td>82787</td>\n",
       "      <td>DEKUYPER BUTTERSHOTS</td>\n",
       "      <td>1000</td>\n",
       "      <td>7.87</td>\n",
       "      <td>11.81</td>\n",
       "      <td>12</td>\n",
       "      <td>141.72</td>\n",
       "    </tr>\n",
       "    <tr>\n",
       "      <th>4</th>\n",
       "      <td>INV-17022500013</td>\n",
       "      <td>01/18/2019</td>\n",
       "      <td>2560</td>\n",
       "      <td>HY-VEE FOOD STORE / MARION</td>\n",
       "      <td>52302</td>\n",
       "      <td>WHISKEY LIQUEUR</td>\n",
       "      <td>SAZERAC COMPANY  INC</td>\n",
       "      <td>64863</td>\n",
       "      <td>FIREBALL CINNAMON WHISKEY</td>\n",
       "      <td>200</td>\n",
       "      <td>2.50</td>\n",
       "      <td>3.75</td>\n",
       "      <td>12</td>\n",
       "      <td>45.00</td>\n",
       "    </tr>\n",
       "    <tr>\n",
       "      <th>5</th>\n",
       "      <td>S32243000024</td>\n",
       "      <td>05/10/2016</td>\n",
       "      <td>5167</td>\n",
       "      <td>NEW STAR LIQUOR &amp; TOBACCO  / FT DODG</td>\n",
       "      <td>50501</td>\n",
       "      <td>IRISH WHISKIES</td>\n",
       "      <td>PERNOD RICARD USA/AUSTIN NICHOLS</td>\n",
       "      <td>15677</td>\n",
       "      <td>POWERS IRISH WHISKEY</td>\n",
       "      <td>1000</td>\n",
       "      <td>16.49</td>\n",
       "      <td>24.74</td>\n",
       "      <td>1</td>\n",
       "      <td>24.74</td>\n",
       "    </tr>\n",
       "    <tr>\n",
       "      <th>6</th>\n",
       "      <td>S16316700048</td>\n",
       "      <td>12/18/2013</td>\n",
       "      <td>2536</td>\n",
       "      <td>HY-VEE / PLEASANT HILL</td>\n",
       "      <td>50317</td>\n",
       "      <td>PUERTO RICO &amp; VIRGIN ISLANDS RUM</td>\n",
       "      <td>BACARDI U.S.A., INC.</td>\n",
       "      <td>43036</td>\n",
       "      <td>BACARDI GOLD RUM</td>\n",
       "      <td>750</td>\n",
       "      <td>7.54</td>\n",
       "      <td>11.31</td>\n",
       "      <td>12</td>\n",
       "      <td>135.72</td>\n",
       "    </tr>\n",
       "    <tr>\n",
       "      <th>7</th>\n",
       "      <td>INV-84044800086</td>\n",
       "      <td>06/30/2025</td>\n",
       "      <td>2637</td>\n",
       "      <td>HY-VEE #5 / DAVENPORT</td>\n",
       "      <td>52804</td>\n",
       "      <td>AMERICAN BRANDIES</td>\n",
       "      <td>SAZERAC COMPANY  INC</td>\n",
       "      <td>55066</td>\n",
       "      <td>MR BOSTON BLACKBERRY BRANDY</td>\n",
       "      <td>750</td>\n",
       "      <td>5.00</td>\n",
       "      <td>7.50</td>\n",
       "      <td>12</td>\n",
       "      <td>90.00</td>\n",
       "    </tr>\n",
       "    <tr>\n",
       "      <th>8</th>\n",
       "      <td>INV-14344700002</td>\n",
       "      <td>09/10/2018</td>\n",
       "      <td>3611</td>\n",
       "      <td>LOGAN SUPER FOODS</td>\n",
       "      <td>51546</td>\n",
       "      <td>CANADIAN WHISKIES</td>\n",
       "      <td>JIM BEAM BRANDS</td>\n",
       "      <td>15246</td>\n",
       "      <td>WINDSOR CANADIAN</td>\n",
       "      <td>750</td>\n",
       "      <td>4.67</td>\n",
       "      <td>7.01</td>\n",
       "      <td>12</td>\n",
       "      <td>84.12</td>\n",
       "    </tr>\n",
       "    <tr>\n",
       "      <th>9</th>\n",
       "      <td>S08759700117</td>\n",
       "      <td>11/05/2012</td>\n",
       "      <td>2623</td>\n",
       "      <td>HY-VEE FOOD STORE #4 / SIOUX CITY</td>\n",
       "      <td>51104</td>\n",
       "      <td>SPICED RUM</td>\n",
       "      <td>DIAGEO AMERICAS</td>\n",
       "      <td>43334</td>\n",
       "      <td>CAPTAIN MORGAN SPICED RUM</td>\n",
       "      <td>375</td>\n",
       "      <td>4.50</td>\n",
       "      <td>6.74</td>\n",
       "      <td>6</td>\n",
       "      <td>40.44</td>\n",
       "    </tr>\n",
       "  </tbody>\n",
       "</table>\n",
       "</div>"
      ],
      "text/plain": [
       "  Invoice/Item Number        Date  Store Number  \\\n",
       "0     INV-59108400026  06/06/2023          3723   \n",
       "1        S16879800057  01/16/2014          3926   \n",
       "2     INV-05301100019  06/05/2017          3829   \n",
       "3     INV-40973500083  10/14/2021          5102   \n",
       "4     INV-17022500013  01/18/2019          2560   \n",
       "5        S32243000024  05/10/2016          5167   \n",
       "6        S16316700048  12/18/2013          2536   \n",
       "7     INV-84044800086  06/30/2025          2637   \n",
       "8     INV-14344700002  09/10/2018          3611   \n",
       "9        S08759700117  11/05/2012          2623   \n",
       "\n",
       "                             Store Name Zip Code  \\\n",
       "0                    J D SPIRITS LIQUOR    51040   \n",
       "1           LIQUOR DOWNTOWN / IOWA CITY    52240   \n",
       "2              GARY'S FOODS / MT VERNON    52314   \n",
       "3                        WILKIE LIQUORS    52314   \n",
       "4            HY-VEE FOOD STORE / MARION    52302   \n",
       "5  NEW STAR LIQUOR & TOBACCO  / FT DODG    50501   \n",
       "6                HY-VEE / PLEASANT HILL    50317   \n",
       "7                 HY-VEE #5 / DAVENPORT    52804   \n",
       "8                     LOGAN SUPER FOODS    51546   \n",
       "9     HY-VEE FOOD STORE #4 / SIOUX CITY    51104   \n",
       "\n",
       "                      Category Name                       Vendor Name  \\\n",
       "0             STRAIGHT RYE WHISKIES                  INFINIUM SPIRITS   \n",
       "1                    VODKA 80 PROOF                HEAVEN HILL BRANDS   \n",
       "2                 CANADIAN WHISKIES                   DIAGEO AMERICAS   \n",
       "3                 AMERICAN SCHNAPPS                   JIM BEAM BRANDS   \n",
       "4                   WHISKEY LIQUEUR              SAZERAC COMPANY  INC   \n",
       "5                    IRISH WHISKIES  PERNOD RICARD USA/AUSTIN NICHOLS   \n",
       "6  PUERTO RICO & VIRGIN ISLANDS RUM              BACARDI U.S.A., INC.   \n",
       "7                 AMERICAN BRANDIES              SAZERAC COMPANY  INC   \n",
       "8                 CANADIAN WHISKIES                   JIM BEAM BRANDS   \n",
       "9                        SPICED RUM                   DIAGEO AMERICAS   \n",
       "\n",
       "   Item Number             Item Description  Bottle Volume (ml)  \\\n",
       "0        27102            TEMPLETON RYE 4YR                 750   \n",
       "1        35416       BURNETT'S VODKA 80 PRF                 750   \n",
       "2        11296                  CROWN ROYAL                 750   \n",
       "3        82787         DEKUYPER BUTTERSHOTS                1000   \n",
       "4        64863    FIREBALL CINNAMON WHISKEY                 200   \n",
       "5        15677         POWERS IRISH WHISKEY                1000   \n",
       "6        43036             BACARDI GOLD RUM                 750   \n",
       "7        55066  MR BOSTON BLACKBERRY BRANDY                 750   \n",
       "8        15246             WINDSOR CANADIAN                 750   \n",
       "9        43334    CAPTAIN MORGAN SPICED RUM                 375   \n",
       "\n",
       "   State Bottle Cost  State Bottle Retail  Bottles Sold  Sale (Dollars)  \n",
       "0              18.09                27.14             2           54.28  \n",
       "1               4.84                 7.26            12           87.12  \n",
       "2              15.59                23.39             6          135.66  \n",
       "3               7.87                11.81            12          141.72  \n",
       "4               2.50                 3.75            12           45.00  \n",
       "5              16.49                24.74             1           24.74  \n",
       "6               7.54                11.31            12          135.72  \n",
       "7               5.00                 7.50            12           90.00  \n",
       "8               4.67                 7.01            12           84.12  \n",
       "9               4.50                 6.74             6           40.44  "
      ]
     },
     "execution_count": 2,
     "metadata": {},
     "output_type": "execute_result"
    }
   ],
   "source": [
    "# importing the iowa liquor sales dataset\n",
    "\n",
    "idf = pd.read_csv('./data/iowa.csv')\n",
    "\n",
    "idf.head(10)"
   ]
  },
  {
   "cell_type": "markdown",
   "id": "337d771c",
   "metadata": {},
   "source": [
    "Q. 1.1 How do you define the most profitable item? Why? Explain your thinking"
   ]
  },
  {
   "cell_type": "markdown",
   "id": "d7fe97ba",
   "metadata": {},
   "source": [
    "Profitability comes from the difference between what the state earns from selling a bottle vs. what the state paid for it.\n",
    "\n",
    "- Unit profit per bottle = State Bottle Retail - State Bottle Cost\n",
    "\n",
    "- Total profit for each transaction = Unit profit per bottle × Bottles Sold\n",
    "\n",
    "The most profitable item overall should be defined as the liquor brand/description that generates the highest total profit, not just the highest unit margin.\n",
    "\n",
    "Example: An expensive whiskey may have a $10 profit per bottle but only sell 50 bottles.\n",
    "\n",
    "Meanwhile, a cheaper vodka may only have a $2 profit per bottle but sell 5,000 bottles — making it more profitable overall.\n",
    "\n",
    "So: most profitable = highest total profit across all sales."
   ]
  },
  {
   "cell_type": "code",
   "execution_count": 3,
   "id": "aa2ce9d7",
   "metadata": {},
   "outputs": [
    {
     "name": "stdout",
     "output_type": "stream",
     "text": [
      "                  Item Description  Total_Profit\n",
      "0             TITOS HANDMADE VODKA     364074.35\n",
      "1                     BLACK VELVET     274676.85\n",
      "2        FIREBALL CINNAMON WHISKEY     187535.22\n",
      "3                      CROWN ROYAL     160981.95\n",
      "4          CROWN ROYAL REGAL APPLE     122880.40\n",
      "5        CAPTAIN MORGAN SPICED RUM     121115.30\n",
      "6                    HAWKEYE VODKA     116375.04\n",
      "7   CAPTAIN MORGAN ORIGINAL SPICED     112146.71\n",
      "8  JACK DANIELS OLD #7 BLACK LABEL     111509.09\n",
      "9                      HENNESSY VS     108459.45\n"
     ]
    }
   ],
   "source": [
    "# Q 1.b. Finding the most profitable liquors sold in Iowa\n",
    "\n",
    "# Calculate profit per bottle\n",
    "idf['Unit_Profit'] = idf['State Bottle Retail'] - idf['State Bottle Cost']\n",
    "\n",
    "# Calculate total profit per transaction\n",
    "idf['Total_Profit'] = idf['Unit_Profit'] * idf['Bottles Sold']\n",
    "\n",
    "# Group by Item Description to get total profit per liquor\n",
    "profit_df = idf.groupby('Item Description')['Total_Profit'].sum().sort_values(ascending=False).reset_index()\n",
    "\n",
    "#print(profit_df)\n",
    "\n",
    "# View top 10 most profitable liquors\n",
    "top_liquors_df = profit_df.head(10)\n",
    "\n",
    "print(top_liquors_df)"
   ]
  },
  {
   "cell_type": "code",
   "execution_count": 4,
   "id": "c8ebb023",
   "metadata": {},
   "outputs": [
    {
     "data": {
      "image/png": "[encoded data removed]",
      "text/plain": [
       "<Figure size 640x480 with 1 Axes>"
      ]
     },
     "metadata": {},
     "output_type": "display_data"
    }
   ],
   "source": [
    "# Q 1.c. Make a plot of the top liquors\n",
    "\n",
    "sns.barplot(\n",
    "    x=\"Total_Profit\",\n",
    "    y=\"Item Description\",\n",
    "    data=top_liquors_df\n",
    ")\n",
    "\n",
    "plt.show()\n"
   ]
  },
  {
   "cell_type": "markdown",
   "id": "63593bde",
   "metadata": {},
   "source": [
    "2. This question is to further explore broadcasting in NumPy.\n",
    "\n",
    "- In the first code chunk below, there are two vectors, $x$ and $y$. What happens when you try to subtract them?\n",
    "- Instead, try `x.reshape(-1,1)-y.reshape(1,-1)`. What do you get?\n",
    "- Try `x.reshape(1,-1)-y.reshape(-1,1)`. Compare the results to your previous answer.\n",
    "- Write two double for-loops to replicate the results of the previous two answers. \n",
    "- Clearly explain how `x.reshape(1,-1)` and `x.reshape(-1,1)` change $x$"
   ]
  },
  {
   "cell_type": "code",
   "execution_count": 7,
   "id": "e29b3aac",
   "metadata": {},
   "outputs": [],
   "source": [
    "import numpy as np\n",
    "\n",
    "x = np.array([1,3,5])\n",
    "y = np.array([2,5])"
   ]
  },
  {
   "cell_type": "code",
   "execution_count": 8,
   "id": "0100b68d",
   "metadata": {},
   "outputs": [
    {
     "ename": "ValueError",
     "evalue": "operands could not be broadcast together with shapes (3,) (2,) ",
     "output_type": "error",
     "traceback": [
      "\u001b[0;31m---------------------------------------------------------------------------\u001b[0m",
      "\u001b[0;31mValueError\u001b[0m                                Traceback (most recent call last)",
      "Cell \u001b[0;32mIn[8], line 3\u001b[0m\n\u001b[1;32m      1\u001b[0m \u001b[38;5;66;03m# Q 2.a. What happens when you try to subtract the two vectors x vs y? \u001b[39;00m\n\u001b[0;32m----> 3\u001b[0m x \u001b[38;5;241m-\u001b[39m y\n",
      "\u001b[0;31mValueError\u001b[0m: operands could not be broadcast together with shapes (3,) (2,) "
     ]
    }
   ],
   "source": [
    "# Q 2.a. What happens when you try to subtract the two vectors x vs y? \n",
    "\n",
    "x - y\n"
   ]
  },
  {
   "cell_type": "markdown",
   "id": "54a3ef5c",
   "metadata": {},
   "source": [
    "*Explanation:*\n",
    "\n",
    "> x is of shape (3,) and y is of shape (2,), so they are not compatible for direct subtraction"
   ]
  },
  {
   "cell_type": "code",
   "execution_count": 9,
   "id": "23df3919",
   "metadata": {},
   "outputs": [
    {
     "data": {
      "text/plain": [
       "array([[1],\n",
       "       [3],\n",
       "       [5]])"
      ]
     },
     "execution_count": 9,
     "metadata": {},
     "output_type": "execute_result"
    }
   ],
   "source": [
    "# Q 2.b. What happens when you reshape them ?\n",
    "\n",
    "x_reshaped = x.reshape(-1,1)\n",
    "x_reshaped\n",
    "\n",
    "# Reshape x to be a column vector"
   ]
  },
  {
   "cell_type": "code",
   "execution_count": 10,
   "id": "8d760d01",
   "metadata": {},
   "outputs": [
    {
     "data": {
      "text/plain": [
       "array([[2, 5]])"
      ]
     },
     "execution_count": 10,
     "metadata": {},
     "output_type": "execute_result"
    }
   ],
   "source": [
    "y_reshaped = y.reshape(1,-1)\n",
    "y_reshaped \n",
    "\n",
    "# Reshape y to be a row vector"
   ]
  },
  {
   "cell_type": "code",
   "execution_count": 11,
   "id": "80ab6b48",
   "metadata": {},
   "outputs": [
    {
     "data": {
      "text/plain": [
       "array([[-1, -4],\n",
       "       [ 1, -2],\n",
       "       [ 3,  0]])"
      ]
     },
     "execution_count": 11,
     "metadata": {},
     "output_type": "execute_result"
    }
   ],
   "source": [
    "# Now we can subtract them using broadcasting\n",
    "x.reshape(-1,1)-y.reshape(1,-1)"
   ]
  },
  {
   "cell_type": "markdown",
   "id": "5965dc2f",
   "metadata": {},
   "source": [
    "*Explanation:*\n",
    "\n",
    "NumPy broadcasts:\n",
    "\n",
    "(3,1) minus (1,2) → result shape (3,2)\n",
    "\n",
    "Each row corresponds to one element of x minus all elements of y"
   ]
  },
  {
   "cell_type": "code",
   "execution_count": 12,
   "id": "dc3fb1fd",
   "metadata": {},
   "outputs": [
    {
     "data": {
      "text/plain": [
       "array([[-1,  1,  3],\n",
       "       [-4, -2,  0]])"
      ]
     },
     "execution_count": 12,
     "metadata": {},
     "output_type": "execute_result"
    }
   ],
   "source": [
    "# Q 2.c. Reverse the order of reshaping and subtract again.\n",
    "\n",
    "x.reshape(1,-1)-y.reshape(-1,1)"
   ]
  },
  {
   "cell_type": "markdown",
   "id": "a261dbf7",
   "metadata": {},
   "source": [
    "*Explanation:*\n",
    "\n",
    "Numpy Broadcast (2,1) - (1,3) → shape (2,3)\n",
    "\n",
    "Now each row corresponds to one element of y minus all elements of x (or vice versa, depending on ordering)"
   ]
  },
  {
   "cell_type": "markdown",
   "id": "3b99ee31",
   "metadata": {},
   "source": [
    "*Q 2. d. Write two double for-loops to replicate the results of the previous two answers*\n"
   ]
  },
  {
   "cell_type": "markdown",
   "id": "44a31b7f",
   "metadata": {},
   "source": [
    "*Part 1 - i.e  : x.reshape(-1,1)-y.reshape(1,-1)*\n",
    "\n",
    "> This gives a 3×2 matrix where each row corresponds to an element of x, and each column to an element of y. So the element at [i][j] is x[i] - y[j]"
   ]
  },
  {
   "cell_type": "code",
   "execution_count": 13,
   "id": "e34b10aa",
   "metadata": {},
   "outputs": [
    {
     "data": {
      "text/plain": [
       "array([[0., 0.],\n",
       "       [0., 0.],\n",
       "       [0., 0.]])"
      ]
     },
     "execution_count": 13,
     "metadata": {},
     "output_type": "execute_result"
    }
   ],
   "source": [
    "result1 = np.zeros((len(x), len(y)))  # shape (3, 2) # initializing a zero matrix\n",
    "\n",
    "result1"
   ]
  },
  {
   "cell_type": "code",
   "execution_count": 14,
   "id": "e913b802",
   "metadata": {},
   "outputs": [
    {
     "name": "stdout",
     "output_type": "stream",
     "text": [
      "[[-1. -4.]\n",
      " [ 1. -2.]\n",
      " [ 3.  0.]]\n"
     ]
    }
   ],
   "source": [
    "# for-loops to replicate the results of the part 1 - i.e  : x.reshape(-1,1)-y.reshape(1,-1)\n",
    "\n",
    "for i in range(len(x)):\n",
    "    for j in range(len(y)):\n",
    "        result1[i][j] = x[i] - y[j]\n",
    "\n",
    "print(result1)"
   ]
  },
  {
   "cell_type": "markdown",
   "id": "8f4e7a37",
   "metadata": {},
   "source": [
    "*Part 2 - i.e  : x.reshape(1,-1) - y.reshape(-1,1))*\n",
    "\n",
    "> This gives a 2×3 matrix where each row corresponds to an element of y, and each column to an element of x. So the element at [i][j] is x[j] - y[i]"
   ]
  },
  {
   "cell_type": "code",
   "execution_count": 15,
   "id": "d2261b31",
   "metadata": {},
   "outputs": [
    {
     "name": "stdout",
     "output_type": "stream",
     "text": [
      "[[-1.  1.  3.]\n",
      " [-4. -2.  0.]]\n"
     ]
    }
   ],
   "source": [
    "result2 = np.zeros((len(y), len(x)))  # shape (2, 3)\n",
    "\n",
    "for i in range(len(y)):\n",
    "    for j in range(len(x)):\n",
    "        result2[i][j] = x[j] - y[i]\n",
    "\n",
    "print(result2)"
   ]
  },
  {
   "cell_type": "markdown",
   "id": "e6b77379",
   "metadata": {},
   "source": [
    "Q: 2. e. Clearly explain how `x.reshape(1,-1)` and `x.reshape(-1,1)` change $x$"
   ]
  },
  {
   "cell_type": "code",
   "execution_count": 16,
   "id": "0a88fee7",
   "metadata": {},
   "outputs": [
    {
     "data": {
      "text/plain": [
       "array([[1, 3, 5]])"
      ]
     },
     "execution_count": 16,
     "metadata": {},
     "output_type": "execute_result"
    }
   ],
   "source": [
    "x.reshape(1,-1)"
   ]
  },
  {
   "cell_type": "code",
   "execution_count": 17,
   "id": "10294083",
   "metadata": {},
   "outputs": [
    {
     "data": {
      "text/plain": [
       "array([[1],\n",
       "       [3],\n",
       "       [5]])"
      ]
     },
     "execution_count": 17,
     "metadata": {},
     "output_type": "execute_result"
    }
   ],
   "source": [
    "x.reshape(-1,1)"
   ]
  },
  {
   "cell_type": "markdown",
   "id": "cf8ab427",
   "metadata": {},
   "source": [
    "*Explanation:*\n",
    "\n",
    "> Reshaping does not change the data, only the dimensions, which allows NumPy to broadcast properly against other arrays"
   ]
  },
  {
   "cell_type": "markdown",
   "id": "b29f1d35",
   "metadata": {},
   "source": [
    "3. The indicator function $\\mathbb{I}\\{ x \\le z \\}$ takes the value 0 if $x>z$ and 1 if $x \\le z$ is true, or\n",
    "$$\n",
    "\\mathbb{I}\\{x \\le z\\} = \\begin{cases}\n",
    "0, &x > z \\\\\n",
    "1, &x \\le z\n",
    "\\end{cases}\n",
    "$$\n",
    "\n",
    "- For $x = 3$, plot the indicator function for any $z$\n",
    "- Explain how $ 1- \\mathbb{I}\\{ x \\le z \\} = \\mathbb{I}\\{ x > z \\}$. Drawing a plot might help, or looking at the definition given above.\n",
    "- The code below generates a random sample for different numbers of observations, $N = 3, 30, 300, 3000 $. Write a function to compute the ECDF curve for each sample, and plot your results.\n",
    "- Describe in your own words what happens to the ECDF qualitatively as the sample size $N$ increases"
   ]
  },
  {
   "cell_type": "code",
   "execution_count": 18,
   "id": "4920e152",
   "metadata": {},
   "outputs": [
    {
     "data": {
      "text/plain": [
       "[<matplotlib.lines.Line2D at 0x1786e4650>]"
      ]
     },
     "execution_count": 18,
     "metadata": {},
     "output_type": "execute_result"
    },
    {
     "data": {
      "image/png": "[encoded data removed]",
      "text/plain": [
       "<Figure size 640x480 with 1 Axes>"
      ]
     },
     "metadata": {},
     "output_type": "display_data"
    }
   ],
   "source": [
    "# Q 3. a. for x = 3 plot the indicator function for any z\n",
    "\n",
    "x = 3\n",
    "z = np.linspace(0,6,100)\n",
    "\n",
    "I = (x <= z).astype(int)\n",
    "\n",
    "plt.plot(z, I)"
   ]
  },
  {
   "cell_type": "code",
   "execution_count": 19,
   "id": "ca318f1e",
   "metadata": {},
   "outputs": [
    {
     "data": {
      "text/plain": [
       "[<matplotlib.lines.Line2D at 0x1786ed850>]"
      ]
     },
     "execution_count": 19,
     "metadata": {},
     "output_type": "execute_result"
    },
    {
     "data": {
      "image/png": "[encoded data removed]",
      "text/plain": [
       "<Figure size 640x480 with 1 Axes>"
      ]
     },
     "metadata": {},
     "output_type": "display_data"
    }
   ],
   "source": [
    "# Q 3. b. Plot how the compliment of the indicator function look ?\n",
    "\n",
    "x = 3\n",
    "z = np.linspace(0, 6, 100)  # Range of z values\n",
    "\n",
    "II = (x > z).astype(int)  # This is I{x > z}\n",
    "\n",
    "plt.plot(z, II)"
   ]
  },
  {
   "cell_type": "code",
   "execution_count": 4,
   "id": "17ad7d01",
   "metadata": {},
   "outputs": [],
   "source": [
    "import numpy as np\n",
    "import seaborn as sns\n",
    "\n",
    "rng = np.random.default_rng(100)\n",
    "\n",
    "for N in (3,30,300,3000):\n",
    "    X = rng.normal(0,1,N)\n",
    "    # ECDF plot goes here:\n"
   ]
  },
  {
   "cell_type": "code",
   "execution_count": 20,
   "id": "0bc2479b",
   "metadata": {},
   "outputs": [
    {
     "data": {
      "image/png": "[encoded data removed]",
      "text/plain": [
       "<Figure size 640x480 with 1 Axes>"
      ]
     },
     "metadata": {},
     "output_type": "display_data"
    }
   ],
   "source": [
    "rng = np.random.default_rng(100)\n",
    "N = 3 \n",
    "\n",
    "X = rng.normal(0,1,N)\n",
    "\n",
    "X = np.sort(X)  # Sort the data\n",
    "\n",
    "ecdf = np.arange(1, N + 1) / N\n",
    "\n",
    "sns.lineplot(x=X, y=ecdf)\n",
    "plt.show()"
   ]
  },
  {
   "cell_type": "code",
   "execution_count": 21,
   "id": "46863c6c",
   "metadata": {},
   "outputs": [
    {
     "data": {
      "image/png": "[encoded data removed]",
      "text/plain": [
       "<Figure size 640x480 with 1 Axes>"
      ]
     },
     "metadata": {},
     "output_type": "display_data"
    }
   ],
   "source": [
    "rng = np.random.default_rng(100)\n",
    "N = 30 \n",
    "\n",
    "X = rng.normal(0,1,N)\n",
    "\n",
    "X = np.sort(X)  # Sort the data\n",
    "\n",
    "ecdf = np.arange(1, N + 1) / N\n",
    "\n",
    "sns.lineplot(x=X, y=ecdf)\n",
    "plt.show()"
   ]
  },
  {
   "cell_type": "code",
   "execution_count": 22,
   "id": "5accddae",
   "metadata": {},
   "outputs": [
    {
     "data": {
      "image/png": "[encoded data removed]",
      "text/plain": [
       "<Figure size 640x480 with 1 Axes>"
      ]
     },
     "metadata": {},
     "output_type": "display_data"
    }
   ],
   "source": [
    "rng = np.random.default_rng(100)\n",
    "N = 300 \n",
    "\n",
    "X = rng.normal(0,1,N)\n",
    "\n",
    "X = np.sort(X)  # Sort the data\n",
    "\n",
    "ecdf = np.arange(1, N + 1) / N\n",
    "\n",
    "sns.lineplot(x=X, y=ecdf)\n",
    "plt.show()"
   ]
  },
  {
   "cell_type": "code",
   "execution_count": 23,
   "id": "102b9e38",
   "metadata": {},
   "outputs": [
    {
     "data": {
      "image/png": "[encoded data removed]",
      "text/plain": [
       "<Figure size 640x480 with 1 Axes>"
      ]
     },
     "metadata": {},
     "output_type": "display_data"
    }
   ],
   "source": [
    "rng = np.random.default_rng(100)\n",
    "N = 3000 \n",
    "\n",
    "X = rng.normal(0,1,N)\n",
    "\n",
    "X = np.sort(X)  # Sort the data\n",
    "\n",
    "ecdf = np.arange(1, N + 1) / N\n",
    "\n",
    "sns.lineplot(x=X, y=ecdf)\n",
    "plt.show()"
   ]
  },
  {
   "cell_type": "markdown",
   "id": "bf6390c6",
   "metadata": {},
   "source": [
    "*Explanation:*\n",
    "\n",
    "As the sample size 𝑁 increases, the (ECDF) function becomes smoother and more representative of the underlying distribution. \n",
    "\n",
    "With small samples, the ECDF appears step-like, with each data point contributing a noticeable jump. \n",
    "\n",
    "As more observations are added, these jumps become smaller and more frequent, gradually forming a curve that closely resembles the true cumulative distribution. \n",
    "\n",
    "In large samples, the ECDF provides a reliable, non-parametric estimate of the population’s behavior, reducing the influence of random variation."
   ]
  },
  {
   "cell_type": "markdown",
   "id": "6c8f1ebb",
   "metadata": {},
   "source": [
    "4. A **quantile** generalizes the concept of the median so that instead of 50% of the mass below and 50% above, the $q$-quantile is the value for which $q$ proportion of the data are below that value and $(1-q)$ proportion of the data are above that value. This is a concept of **order**.\n",
    "\n",
    "- Write a function that computes any quantile without using Numpy's `np.quantile`\n",
    "- Write a function that computes the **Interquartile Range (IQR)** -- the .25 quantile and the .75 quantile, which brackets 50% of the data -- and the **whiskers**: $\\pm 1.5 \\times \\text{IQR}$ from the edges of the IQR\n",
    "- Write a function that computes a five-number summary and values for a boxplot: the minimum, the .25 quantile, the median, the .75 quantile, and the maximum, and the whiskers\n",
    "- Anything outside the whiskers is an **outlier**; write a function that returns a Boolean vector indicating if the observations are outliers.\n",
    "- For a numeric variable of your choice from one of the datasets, apply your functions from above, and compare your answers with `sns.boxplot` and `df.describe`. "
   ]
  },
  {
   "cell_type": "code",
   "execution_count": 24,
   "id": "89d8e4a2",
   "metadata": {},
   "outputs": [],
   "source": [
    "# Q. 4. a Write a function to compute the q-th quantile of a dataset\n",
    "\n",
    "def quantile(data, q):\n",
    "\n",
    "    sorted_data = np.sort(data)\n",
    "    n = len(sorted_data)\n",
    "    index = int(q * (n-1))\n",
    "    \n",
    "    return sorted_data[index]\n",
    "\n"
   ]
  },
  {
   "cell_type": "code",
   "execution_count": 25,
   "id": "20f35683",
   "metadata": {},
   "outputs": [],
   "source": [
    "# Q. 4. b Write a function to compute the IQR, lower whisker, and upper whisker of a dataset\n",
    "\n",
    "def iqr_whiskers(data):\n",
    "   \n",
    "    q1 = quantile(data, 0.25)\n",
    "    q3 = quantile(data, 0.75)\n",
    "\n",
    "    iqr = q3 - q1\n",
    "    \n",
    "    lower_whisker = q1 - 1.5 * iqr\n",
    "    upper_whisker = q3 + 1.5 * iqr\n",
    "    \n",
    "    return iqr, lower_whisker, upper_whisker"
   ]
  },
  {
   "cell_type": "code",
   "execution_count": 26,
   "id": "1ed45b5c",
   "metadata": {},
   "outputs": [],
   "source": [
    "# Q. 4. c Write a function to compute the five-number summary of a dataset\n",
    "\n",
    "def five_number_summary(data):\n",
    "    \n",
    "    data_min = min(data)\n",
    "    data_max = max(data)\n",
    "    \n",
    "    q1 = quantile(data, 0.25)\n",
    "    median = quantile(data, 0.5)\n",
    "    q3 = quantile(data, 0.75)\n",
    "    \n",
    "    iqr = q3 - q1\n",
    "    \n",
    "    lower_whisker = max(data_min, q1 - 1.5*iqr)\n",
    "    upper_whisker = min(data_max, q3 + 1.5*iqr)\n",
    "    \n",
    "    return {\n",
    "        \"min\": data_min,\n",
    "        \"Q1\": q1,\n",
    "        \"median\": median,\n",
    "        \"Q3\": q3,\n",
    "        \"max\": data_max,\n",
    "        \"IQR\": iqr,\n",
    "        \"lower_whisker\": lower_whisker,\n",
    "        \"upper_whisker\": upper_whisker\n",
    "    }"
   ]
  },
  {
   "cell_type": "code",
   "execution_count": 27,
   "id": "e858fcca",
   "metadata": {},
   "outputs": [],
   "source": [
    "# Q. 4. d Write a function that returns a Boolean vector indicating if the observations are outliers\n",
    "\n",
    "def outliers(data):\n",
    "    \n",
    "    summary = five_number_summary(data)\n",
    "    \n",
    "    return [\n",
    "        (x < summary[\"lower_whisker\"]) \n",
    "        or (x > summary[\"upper_whisker\"]) \n",
    "        for x in data]\n",
    "\n"
   ]
  },
  {
   "cell_type": "code",
   "execution_count": 36,
   "id": "52f47b95",
   "metadata": {},
   "outputs": [
    {
     "name": "stdout",
     "output_type": "stream",
     "text": [
      "{'min': 20, 'Q1': 750, 'median': 750, 'Q3': 1000, 'max': 6000, 'IQR': 250, 'lower_whisker': 375.0, 'upper_whisker': 1375.0}\n",
      "[False, False, False, False, True, False, False, False, False, False, False, False, False, False, True, True, False, True, True, False]\n"
     ]
    },
    {
     "data": {
      "image/png": "[encoded data removed]",
      "text/plain": [
       "<Figure size 640x480 with 1 Axes>"
      ]
     },
     "metadata": {},
     "output_type": "display_data"
    },
    {
     "name": "stdout",
     "output_type": "stream",
     "text": [
      "count    159904.000000\n",
      "mean        869.592737\n",
      "std         513.812818\n",
      "min          20.000000\n",
      "25%         750.000000\n",
      "50%         750.000000\n",
      "75%        1000.000000\n",
      "max        6000.000000\n",
      "Name: Bottle Volume (ml), dtype: float64\n"
     ]
    }
   ],
   "source": [
    "# 4 e. Apply your functions the iowa liquor sales dataset\n",
    "\n",
    "idf = pd.read_csv('./data/iowa.csv')\n",
    "\n",
    "# Choose numeric variable\n",
    "x = idf['Bottle Volume (ml)']\n",
    "\n",
    "# Compute summary\n",
    "summary = five_number_summary(x)\n",
    "\n",
    "print(summary)\n",
    "\n",
    "# Identify outliers\n",
    "outliers_bool = outliers(x)\n",
    "print(outliers_bool[:20])\n",
    "\n",
    "# Plot with Seaborn\n",
    "sns.boxplot(x=x)\n",
    "plt.show()\n",
    "\n",
    "# Compare with df.describe\n",
    "print(x.describe())\n",
    "\n",
    "\n"
   ]
  },
  {
   "cell_type": "markdown",
   "id": "e146146f",
   "metadata": {},
   "source": [
    "*Explanation:* \n",
    "\n",
    "- Most bottles are between 750 ml (Q1) and 1000 ml (Q3).\n",
    "\n",
    "- The IQR (interquartile range) is 250 ml.\n",
    "\n",
    "- The whiskers extend from 375 ml to 1375 ml.\n",
    "\n",
    "- Anything below 375 ml or above 1375 ml is flagged as an outlier."
   ]
  },
  {
   "cell_type": "markdown",
   "id": "99f4c407",
   "metadata": {},
   "source": [
    "5. The kernel density estimator captures the concentration of the data around various points, and is defined as\n",
    "$$\n",
    "\\hat{f}_{N,h}(z) = \\frac{1}{N} \\sum_{i=1}^N \\frac{1}{h} k \\left( \\frac{x_i - z}{h}\\right)\n",
    "$$\n",
    "where $h$ is the bandwidth and $k()$ is one of the kernel functions from the class materials (Gaussian, Epanechnikov, uniform, triangular).\n",
    "\n",
    "- Write a function that takes the bandwidth $h$ as given, and computes and plots $\\hat{f}_{N,h}(z)$, for the kernels listed in the slides\n",
    "- Write a function that computes the plug-in bandwidth\n",
    "- Use your functions to analyze some numeric variables from a dataset of your choice, using a variety of bandwidths\n",
    "- Compare bandwidths that are greater or less than the plug-in value with the results for the plug-in value. When does the KDE appear to be overfitting? Underfitting?"
   ]
  }
 ],
 "metadata": {
  "kernelspec": {
   "display_name": "base",
   "language": "python",
   "name": "python3"
  },
  "language_info": {
   "codemirror_mode": {
    "name": "ipython",
    "version": 3
   },
   "file_extension": ".py",
   "mimetype": "text/x-python",
   "name": "python",
   "nbconvert_exporter": "python",
   "pygments_lexer": "ipython3",
   "version": "3.12.7"
  }
 },
 "nbformat": 4,
 "nbformat_minor": 5
}
